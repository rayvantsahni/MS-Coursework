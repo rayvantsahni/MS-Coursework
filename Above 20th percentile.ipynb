{
 "cells": [
  {
   "cell_type": "code",
   "execution_count": 9,
   "outputs": [],
   "source": [
    "import numpy as np\n",
    "import pandas as pd\n",
    "import matplotlib.pyplot as plt\n",
    "import seaborn as sns\n",
    "\n",
    "from sklearn.preprocessing import MinMaxScaler, OneHotEncoder\n",
    "from sklearn.metrics import roc_auc_score, f1_score, fbeta_score\n",
    "from sklearn.ensemble import RandomForestClassifier\n",
    "from sklearn.linear_model import LogisticRegression\n",
    "from sklearn.model_selection import GridSearchCV, train_test_split\n",
    "from sklearn.metrics import accuracy_score, confusion_matrix\n",
    "from sklearn.neural_network import MLPClassifier\n",
    "from sklearn.svm import SVC\n",
    "from scipy.stats import percentileofscore\n",
    "from xgboost import XGBClassifier\n",
    "\n",
    "# import warnings\n",
    "# warnings.filterwarnings(\"ignore\")"
   ],
   "metadata": {
    "collapsed": false,
    "ExecuteTime": {
     "end_time": "2023-12-13T21:52:01.907359400Z",
     "start_time": "2023-12-13T21:52:01.891640200Z"
    }
   },
   "id": "85c0317c09861a4f"
  },
  {
   "cell_type": "code",
   "execution_count": 10,
   "outputs": [],
   "source": [
    "data = pd.read_csv(r'C:\\Users\\rayva\\Desktop\\HWs & Assignments\\Machine Learning\\Final Project\\dataset.csv', header = 0)"
   ],
   "metadata": {
    "collapsed": false,
    "ExecuteTime": {
     "end_time": "2023-12-13T21:52:02.601429100Z",
     "start_time": "2023-12-13T21:52:02.117798600Z"
    }
   },
   "id": "d3a13c60f5fcd50b"
  },
  {
   "cell_type": "code",
   "execution_count": 11,
   "outputs": [],
   "source": [
    "# drop irrelevant columns\n",
    "data = data.drop(['Unnamed: 0', 'track_id', 'artists', 'album_name', 'track_name'], axis = 1)\n"
   ],
   "metadata": {
    "collapsed": false,
    "ExecuteTime": {
     "end_time": "2023-12-13T21:52:02.683992600Z",
     "start_time": "2023-12-13T21:52:02.601429100Z"
    }
   },
   "id": "1ad6b94a314082db"
  },
  {
   "cell_type": "code",
   "execution_count": 12,
   "outputs": [
    {
     "data": {
      "text/plain": "popularity           0\nduration_ms          0\nexplicit             0\ndanceability         0\nenergy               0\nkey                  0\nloudness             0\nmode                 0\nspeechiness          0\nacousticness         0\ninstrumentalness     0\nliveness             0\nvalence              0\ntempo                0\ntime_signature       0\ntrack_genre          0\nartists.1           19\ndtype: int64"
     },
     "execution_count": 12,
     "metadata": {},
     "output_type": "execute_result"
    }
   ],
   "source": [
    "data.isna().sum()"
   ],
   "metadata": {
    "collapsed": false,
    "ExecuteTime": {
     "end_time": "2023-12-13T21:52:02.683992600Z",
     "start_time": "2023-12-13T21:52:02.648697300Z"
    }
   },
   "id": "ec43d33646fdcdda"
  },
  {
   "cell_type": "markdown",
   "source": [
    "##### Finding the threshold for 20th percentile"
   ],
   "metadata": {
    "collapsed": false,
    "ExecuteTime": {
     "end_time": "2023-12-13T20:49:58.894077600Z",
     "start_time": "2023-12-13T20:49:58.806429800Z"
    }
   },
   "id": "da2bf7a03a2b31ad"
  },
  {
   "cell_type": "code",
   "execution_count": 13,
   "outputs": [
    {
     "data": {
      "text/plain": "20.25964912280702"
     },
     "execution_count": 13,
     "metadata": {},
     "output_type": "execute_result"
    }
   ],
   "source": [
    "percentileofscore(data['popularity'], 10, kind='rank')"
   ],
   "metadata": {
    "collapsed": false,
    "ExecuteTime": {
     "end_time": "2023-12-13T21:52:03.770133600Z",
     "start_time": "2023-12-13T21:52:03.722800400Z"
    }
   },
   "id": "f0a282c29c601278"
  },
  {
   "cell_type": "code",
   "execution_count": 14,
   "outputs": [
    {
     "data": {
      "text/plain": "   popularity  duration_ms  explicit  danceability  energy  key  loudness  \\\n0          73       230666     False         0.676  0.4610    1    -6.746   \n1          55       149610     False         0.420  0.1660    1   -17.235   \n2          57       210826     False         0.438  0.3590    0    -9.734   \n3          71       201933     False         0.266  0.0596    0   -18.515   \n4          82       198853     False         0.618  0.4430    2    -9.681   \n\n   mode  speechiness  acousticness  instrumentalness  liveness  valence  \\\n0     0       0.1430        0.0322          0.000001    0.3580    0.715   \n1     1       0.0763        0.9240          0.000006    0.1010    0.267   \n2     1       0.0557        0.2100          0.000000    0.1170    0.120   \n3     1       0.0363        0.9050          0.000071    0.1320    0.143   \n4     1       0.0526        0.4690          0.000000    0.0829    0.167   \n\n     tempo  time_signature track_genre               artists.1  is_above_20  \n0   87.917               4    acoustic             Gen Hoshino         True  \n1   77.489               4    acoustic            Ben Woodward         True  \n2   76.332               4    acoustic  Ingrid Michaelson;ZAYN         True  \n3  181.740               3    acoustic            Kina Grannis         True  \n4  119.949               4    acoustic        Chord Overstreet         True  ",
      "text/html": "<div>\n<style scoped>\n    .dataframe tbody tr th:only-of-type {\n        vertical-align: middle;\n    }\n\n    .dataframe tbody tr th {\n        vertical-align: top;\n    }\n\n    .dataframe thead th {\n        text-align: right;\n    }\n</style>\n<table border=\"1\" class=\"dataframe\">\n  <thead>\n    <tr style=\"text-align: right;\">\n      <th></th>\n      <th>popularity</th>\n      <th>duration_ms</th>\n      <th>explicit</th>\n      <th>danceability</th>\n      <th>energy</th>\n      <th>key</th>\n      <th>loudness</th>\n      <th>mode</th>\n      <th>speechiness</th>\n      <th>acousticness</th>\n      <th>instrumentalness</th>\n      <th>liveness</th>\n      <th>valence</th>\n      <th>tempo</th>\n      <th>time_signature</th>\n      <th>track_genre</th>\n      <th>artists.1</th>\n      <th>is_above_20</th>\n    </tr>\n  </thead>\n  <tbody>\n    <tr>\n      <th>0</th>\n      <td>73</td>\n      <td>230666</td>\n      <td>False</td>\n      <td>0.676</td>\n      <td>0.4610</td>\n      <td>1</td>\n      <td>-6.746</td>\n      <td>0</td>\n      <td>0.1430</td>\n      <td>0.0322</td>\n      <td>0.000001</td>\n      <td>0.3580</td>\n      <td>0.715</td>\n      <td>87.917</td>\n      <td>4</td>\n      <td>acoustic</td>\n      <td>Gen Hoshino</td>\n      <td>True</td>\n    </tr>\n    <tr>\n      <th>1</th>\n      <td>55</td>\n      <td>149610</td>\n      <td>False</td>\n      <td>0.420</td>\n      <td>0.1660</td>\n      <td>1</td>\n      <td>-17.235</td>\n      <td>1</td>\n      <td>0.0763</td>\n      <td>0.9240</td>\n      <td>0.000006</td>\n      <td>0.1010</td>\n      <td>0.267</td>\n      <td>77.489</td>\n      <td>4</td>\n      <td>acoustic</td>\n      <td>Ben Woodward</td>\n      <td>True</td>\n    </tr>\n    <tr>\n      <th>2</th>\n      <td>57</td>\n      <td>210826</td>\n      <td>False</td>\n      <td>0.438</td>\n      <td>0.3590</td>\n      <td>0</td>\n      <td>-9.734</td>\n      <td>1</td>\n      <td>0.0557</td>\n      <td>0.2100</td>\n      <td>0.000000</td>\n      <td>0.1170</td>\n      <td>0.120</td>\n      <td>76.332</td>\n      <td>4</td>\n      <td>acoustic</td>\n      <td>Ingrid Michaelson;ZAYN</td>\n      <td>True</td>\n    </tr>\n    <tr>\n      <th>3</th>\n      <td>71</td>\n      <td>201933</td>\n      <td>False</td>\n      <td>0.266</td>\n      <td>0.0596</td>\n      <td>0</td>\n      <td>-18.515</td>\n      <td>1</td>\n      <td>0.0363</td>\n      <td>0.9050</td>\n      <td>0.000071</td>\n      <td>0.1320</td>\n      <td>0.143</td>\n      <td>181.740</td>\n      <td>3</td>\n      <td>acoustic</td>\n      <td>Kina Grannis</td>\n      <td>True</td>\n    </tr>\n    <tr>\n      <th>4</th>\n      <td>82</td>\n      <td>198853</td>\n      <td>False</td>\n      <td>0.618</td>\n      <td>0.4430</td>\n      <td>2</td>\n      <td>-9.681</td>\n      <td>1</td>\n      <td>0.0526</td>\n      <td>0.4690</td>\n      <td>0.000000</td>\n      <td>0.0829</td>\n      <td>0.167</td>\n      <td>119.949</td>\n      <td>4</td>\n      <td>acoustic</td>\n      <td>Chord Overstreet</td>\n      <td>True</td>\n    </tr>\n  </tbody>\n</table>\n</div>"
     },
     "execution_count": 14,
     "metadata": {},
     "output_type": "execute_result"
    }
   ],
   "source": [
    "data['is_above_20'] = np.where(data['popularity'] > 10, True, False)\n",
    "data.head()"
   ],
   "metadata": {
    "collapsed": false,
    "ExecuteTime": {
     "end_time": "2023-12-13T21:52:04.115332900Z",
     "start_time": "2023-12-13T21:52:04.021161100Z"
    }
   },
   "id": "4f2e878aef2bd7e9"
  },
  {
   "cell_type": "code",
   "execution_count": 15,
   "outputs": [],
   "source": [
    "y = data['is_above_20']\n",
    "x = data.drop(['popularity', 'artists.1', 'is_above_20'], axis = 1)"
   ],
   "metadata": {
    "collapsed": false,
    "ExecuteTime": {
     "end_time": "2023-12-13T21:52:06.719173200Z",
     "start_time": "2023-12-13T21:52:06.672270700Z"
    }
   },
   "id": "4882717dda710d51"
  },
  {
   "cell_type": "code",
   "execution_count": 16,
   "outputs": [
    {
     "data": {
      "text/plain": "   duration_ms  explicit  danceability  energy  key  loudness  mode  \\\n0       230666     False         0.676  0.4610    1    -6.746     0   \n1       149610     False         0.420  0.1660    1   -17.235     1   \n2       210826     False         0.438  0.3590    0    -9.734     1   \n3       201933     False         0.266  0.0596    0   -18.515     1   \n4       198853     False         0.618  0.4430    2    -9.681     1   \n\n   speechiness  acousticness  instrumentalness  liveness  valence    tempo  \\\n0       0.1430        0.0322          0.000001    0.3580    0.715   87.917   \n1       0.0763        0.9240          0.000006    0.1010    0.267   77.489   \n2       0.0557        0.2100          0.000000    0.1170    0.120   76.332   \n3       0.0363        0.9050          0.000071    0.1320    0.143  181.740   \n4       0.0526        0.4690          0.000000    0.0829    0.167  119.949   \n\n   time_signature track_genre  \n0               4    acoustic  \n1               4    acoustic  \n2               4    acoustic  \n3               3    acoustic  \n4               4    acoustic  ",
      "text/html": "<div>\n<style scoped>\n    .dataframe tbody tr th:only-of-type {\n        vertical-align: middle;\n    }\n\n    .dataframe tbody tr th {\n        vertical-align: top;\n    }\n\n    .dataframe thead th {\n        text-align: right;\n    }\n</style>\n<table border=\"1\" class=\"dataframe\">\n  <thead>\n    <tr style=\"text-align: right;\">\n      <th></th>\n      <th>duration_ms</th>\n      <th>explicit</th>\n      <th>danceability</th>\n      <th>energy</th>\n      <th>key</th>\n      <th>loudness</th>\n      <th>mode</th>\n      <th>speechiness</th>\n      <th>acousticness</th>\n      <th>instrumentalness</th>\n      <th>liveness</th>\n      <th>valence</th>\n      <th>tempo</th>\n      <th>time_signature</th>\n      <th>track_genre</th>\n    </tr>\n  </thead>\n  <tbody>\n    <tr>\n      <th>0</th>\n      <td>230666</td>\n      <td>False</td>\n      <td>0.676</td>\n      <td>0.4610</td>\n      <td>1</td>\n      <td>-6.746</td>\n      <td>0</td>\n      <td>0.1430</td>\n      <td>0.0322</td>\n      <td>0.000001</td>\n      <td>0.3580</td>\n      <td>0.715</td>\n      <td>87.917</td>\n      <td>4</td>\n      <td>acoustic</td>\n    </tr>\n    <tr>\n      <th>1</th>\n      <td>149610</td>\n      <td>False</td>\n      <td>0.420</td>\n      <td>0.1660</td>\n      <td>1</td>\n      <td>-17.235</td>\n      <td>1</td>\n      <td>0.0763</td>\n      <td>0.9240</td>\n      <td>0.000006</td>\n      <td>0.1010</td>\n      <td>0.267</td>\n      <td>77.489</td>\n      <td>4</td>\n      <td>acoustic</td>\n    </tr>\n    <tr>\n      <th>2</th>\n      <td>210826</td>\n      <td>False</td>\n      <td>0.438</td>\n      <td>0.3590</td>\n      <td>0</td>\n      <td>-9.734</td>\n      <td>1</td>\n      <td>0.0557</td>\n      <td>0.2100</td>\n      <td>0.000000</td>\n      <td>0.1170</td>\n      <td>0.120</td>\n      <td>76.332</td>\n      <td>4</td>\n      <td>acoustic</td>\n    </tr>\n    <tr>\n      <th>3</th>\n      <td>201933</td>\n      <td>False</td>\n      <td>0.266</td>\n      <td>0.0596</td>\n      <td>0</td>\n      <td>-18.515</td>\n      <td>1</td>\n      <td>0.0363</td>\n      <td>0.9050</td>\n      <td>0.000071</td>\n      <td>0.1320</td>\n      <td>0.143</td>\n      <td>181.740</td>\n      <td>3</td>\n      <td>acoustic</td>\n    </tr>\n    <tr>\n      <th>4</th>\n      <td>198853</td>\n      <td>False</td>\n      <td>0.618</td>\n      <td>0.4430</td>\n      <td>2</td>\n      <td>-9.681</td>\n      <td>1</td>\n      <td>0.0526</td>\n      <td>0.4690</td>\n      <td>0.000000</td>\n      <td>0.0829</td>\n      <td>0.167</td>\n      <td>119.949</td>\n      <td>4</td>\n      <td>acoustic</td>\n    </tr>\n  </tbody>\n</table>\n</div>"
     },
     "execution_count": 16,
     "metadata": {},
     "output_type": "execute_result"
    }
   ],
   "source": [
    "x.head()"
   ],
   "metadata": {
    "collapsed": false,
    "ExecuteTime": {
     "end_time": "2023-12-13T21:52:07.448704400Z",
     "start_time": "2023-12-13T21:52:07.416988900Z"
    }
   },
   "id": "a201c5489e5755ab"
  },
  {
   "cell_type": "code",
   "execution_count": 17,
   "outputs": [],
   "source": [
    "X_train, X_test, y_train, y_test = train_test_split(x, y, test_size=0.2, random_state=47, stratify=y)"
   ],
   "metadata": {
    "collapsed": false,
    "ExecuteTime": {
     "end_time": "2023-12-13T21:52:15.493747700Z",
     "start_time": "2023-12-13T21:52:15.415684300Z"
    }
   },
   "id": "fcdde2fa1d2a97e6"
  },
  {
   "cell_type": "code",
   "execution_count": 18,
   "outputs": [],
   "source": [
    "encoder = OneHotEncoder()\n",
    "\n",
    "X_train_encoded = encoder.fit_transform(X_train[['track_genre']])\n",
    "genre_list = np.array(encoder.get_feature_names_out(['track_genre']))\n",
    "X_train_encoded = pd.DataFrame(X_train_encoded.toarray(), columns=genre_list, index=X_train.index)\n",
    "\n",
    "X_train = pd.concat([X_train, X_train_encoded], axis=1)\n",
    "X_train.drop(['track_genre'], inplace = True, axis = 1)"
   ],
   "metadata": {
    "collapsed": false,
    "ExecuteTime": {
     "end_time": "2023-12-13T21:52:15.965200500Z",
     "start_time": "2023-12-13T21:52:15.776293100Z"
    }
   },
   "id": "e4a5ad8c15664e39"
  },
  {
   "cell_type": "code",
   "execution_count": 19,
   "outputs": [
    {
     "data": {
      "text/plain": "(91200, 128)"
     },
     "execution_count": 19,
     "metadata": {},
     "output_type": "execute_result"
    }
   ],
   "source": [
    "X_train.shape"
   ],
   "metadata": {
    "collapsed": false,
    "ExecuteTime": {
     "end_time": "2023-12-13T21:52:16.679192500Z",
     "start_time": "2023-12-13T21:52:16.631839700Z"
    }
   },
   "id": "d34c79e6ed9db24a"
  },
  {
   "cell_type": "code",
   "execution_count": 20,
   "outputs": [],
   "source": [
    "X_test_encoded = encoder.transform(X_test[['track_genre']])\n",
    "X_test_encoded = pd.DataFrame(X_test_encoded.toarray(), columns=genre_list, index=X_test.index)\n",
    "\n",
    "X_test = pd.concat([X_test, X_test_encoded], axis=1)\n",
    "X_test.drop(['track_genre'], inplace = True, axis = 1)"
   ],
   "metadata": {
    "collapsed": false,
    "ExecuteTime": {
     "end_time": "2023-12-13T21:52:17.024320400Z",
     "start_time": "2023-12-13T21:52:16.930029100Z"
    }
   },
   "id": "f3ba4d968b7a96b9"
  },
  {
   "cell_type": "code",
   "execution_count": 21,
   "outputs": [
    {
     "data": {
      "text/plain": "(22800, 128)"
     },
     "execution_count": 21,
     "metadata": {},
     "output_type": "execute_result"
    }
   ],
   "source": [
    "X_test.shape"
   ],
   "metadata": {
    "collapsed": false,
    "ExecuteTime": {
     "end_time": "2023-12-13T21:52:17.790713Z",
     "start_time": "2023-12-13T21:52:17.775077700Z"
    }
   },
   "id": "800922a9f7637f15"
  },
  {
   "cell_type": "code",
   "execution_count": 22,
   "outputs": [],
   "source": [
    "scaler = MinMaxScaler()\n",
    "\n",
    "X_train = pd.DataFrame(scaler.fit_transform(X_train), columns=X_train.columns)\n",
    "X_test = pd.DataFrame(scaler.transform(X_test), columns=X_test.columns)"
   ],
   "metadata": {
    "collapsed": false,
    "ExecuteTime": {
     "end_time": "2023-12-13T21:52:19.037699300Z",
     "start_time": "2023-12-13T21:52:18.020793700Z"
    }
   },
   "id": "19313cebaa9c0802"
  },
  {
   "cell_type": "code",
   "execution_count": 22,
   "outputs": [],
   "source": [],
   "metadata": {
    "collapsed": false,
    "ExecuteTime": {
     "end_time": "2023-12-13T21:52:19.100797800Z",
     "start_time": "2023-12-13T21:52:19.037699300Z"
    }
   },
   "id": "7d824c8279dc3e32"
  },
  {
   "cell_type": "code",
   "execution_count": 23,
   "outputs": [
    {
     "data": {
      "text/plain": "count    114000.000000\nmean         33.238535\nstd          22.305078\nmin           0.000000\n25%          17.000000\n50%          35.000000\n75%          50.000000\nmax         100.000000\nName: popularity, dtype: float64"
     },
     "execution_count": 23,
     "metadata": {},
     "output_type": "execute_result"
    }
   ],
   "source": [
    "data['popularity'].describe()"
   ],
   "metadata": {
    "collapsed": false,
    "ExecuteTime": {
     "end_time": "2023-12-13T21:52:19.100797800Z",
     "start_time": "2023-12-13T21:52:19.053281900Z"
    }
   },
   "id": "a5261e9ebc0f3a7c"
  },
  {
   "cell_type": "code",
   "execution_count": null,
   "outputs": [],
   "source": [],
   "metadata": {
    "collapsed": false
   },
   "id": "f862bc96f5d5d448"
  },
  {
   "cell_type": "markdown",
   "source": [
    "### Logistic Regression"
   ],
   "metadata": {
    "collapsed": false
   },
   "id": "b78c97fa42670fbb"
  },
  {
   "cell_type": "code",
   "execution_count": null,
   "outputs": [],
   "source": [
    "# Logistic Regression:\n",
    "logistic_regression = LogisticRegression(max_iter=5000, solver='saga')\n",
    "\n",
    "param_grid = {\n",
    "    'penalty': ['l1', 'l2', 'elasticnet'],\n",
    "    'C': [0.001, 0.01, 0.1, 1, 10, 100]\n",
    "}\n",
    "\n",
    "grid_search = GridSearchCV(estimator=logistic_regression, param_grid=param_grid, cv=3, scoring='accuracy', n_jobs=-1)\n",
    "grid_search.fit(X_train, y_train)\n",
    "\n",
    "best_model = grid_search.best_estimator_\n",
    "predictions = best_model.predict(X_test)\n",
    "probabilities = best_model.predict_proba(X_test)[:, 1]  # Probabilities for the positive class\n",
    "\n",
    "accuracy = accuracy_score(y_test, predictions)\n",
    "roc_auc = roc_auc_score(y_test, probabilities)\n",
    "f1 = f1_score(y_test, predictions)\n",
    "\n",
    "print(\"Accuracy:\", accuracy)\n",
    "print(\"ROC-AUC Score:\", roc_auc)\n",
    "print(\"F1 Score:\", f1)"
   ],
   "metadata": {
    "collapsed": false
   },
   "id": "4c52543a0ac7aab7"
  },
  {
   "cell_type": "markdown",
   "source": [
    "### Random Forest"
   ],
   "metadata": {
    "collapsed": false
   },
   "id": "8bb771dd0686b9bb"
  },
  {
   "cell_type": "code",
   "execution_count": null,
   "outputs": [],
   "source": [
    "# Random Forest:\n",
    "random_forest = RandomForestClassifier()\n",
    "\n",
    "param_grid = {\n",
    "    'n_estimators': [50, 100, 200],\n",
    "    'max_depth': [None, 10, 20, 30],\n",
    "    'min_samples_split': [2, 4, 6],\n",
    "    'min_samples_leaf': [1, 2, 4]\n",
    "}\n",
    "grid_search = GridSearchCV(estimator=random_forest, param_grid=param_grid, cv=3, scoring='accuracy')\n",
    "grid_search.fit(X_train, y_train)\n",
    "\n",
    "best_model = grid_search.best_estimator_\n",
    "predictions = best_model.predict(X_test)\n",
    "probabilities = best_model.predict_proba(X_test)[:, 1]  # Probabilities for the positive class\n",
    "\n",
    "accuracy = accuracy_score(y_test, predictions)\n",
    "roc_auc = roc_auc_score(y_test, probabilities)\n",
    "f1 = f1_score(y_test, predictions)\n",
    "\n",
    "print(\"Accuracy:\", accuracy)\n",
    "print(\"ROC-AUC Score:\", roc_auc)\n",
    "print(\"F1 Score:\", f1)"
   ],
   "metadata": {
    "collapsed": false
   },
   "id": "ba2e2092a451bca3"
  },
  {
   "cell_type": "markdown",
   "source": [
    "### Multi Layer Perceptron"
   ],
   "metadata": {
    "collapsed": false
   },
   "id": "f1b893a1362a9285"
  },
  {
   "cell_type": "code",
   "execution_count": null,
   "outputs": [],
   "source": [
    "# Multi-Layer Perceptron (MLP):\n",
    "mlp_classifier = MLPClassifier()\n",
    "\n",
    "param_grid = {\n",
    "    'hidden_layer_sizes': [(100,), (50, 50), (30, 20, 10)],\n",
    "    'activation': ['logistic', 'tanh', 'relu'],\n",
    "    'alpha': [0.0001, 0.001, 0.01],\n",
    "    'max_iter': [100, 200, 300]\n",
    "}\n",
    "\n",
    "grid_search = GridSearchCV(estimator=mlp_classifier, param_grid=param_grid, cv=3, scoring='accuracy')\n",
    "grid_search.fit(X_train, y_train)\n",
    "\n",
    "best_model = grid_search.best_estimator_\n",
    "predictions = best_model.predict(X_test)\n",
    "probabilities = best_model.predict_proba(X_test)[:, 1]  # Probabilities for the positive class\n",
    "\n",
    "accuracy = accuracy_score(y_test, predictions)\n",
    "roc_auc = roc_auc_score(y_test, probabilities)\n",
    "f1 = f1_score(y_test, predictions)\n",
    "\n",
    "print(\"Accuracy:\", accuracy)\n",
    "print(\"ROC-AUC Score:\", roc_auc)\n",
    "print(\"F1 Score:\", f1)"
   ],
   "metadata": {
    "collapsed": false,
    "is_executing": true
   },
   "id": "4970e27c9c0d9e0c"
  },
  {
   "cell_type": "markdown",
   "source": [
    "### SVM"
   ],
   "metadata": {
    "collapsed": false
   },
   "id": "63e6d1b92cd2b794"
  },
  {
   "cell_type": "code",
   "execution_count": null,
   "outputs": [],
   "source": [
    "# Support Vector Machine (SVM):\n",
    "svm_classifier = SVC(probability=True, max_iter=500)  # Setting probability to True for calculating ROC-AUC\n",
    "\n",
    "param_grid = {\n",
    "    'C': [0.01, 0.1, 1, 10, 100, 1000],\n",
    "    'kernel': ['linear', 'poly', 'rbf', 'sigmoid']\n",
    "}\n",
    "\n",
    "grid_search = GridSearchCV(estimator=svm_classifier, param_grid=param_grid, cv=3, scoring='accuracy')\n",
    "grid_search.fit(X_train, y_train)\n",
    "\n",
    "best_model = grid_search.best_estimator_\n",
    "predictions = best_model.predict(X_test)\n",
    "probabilities = best_model.predict_proba(X_test)[:, 1]  # Probabilities for the positive class\n",
    "\n",
    "accuracy = accuracy_score(y_test, predictions)\n",
    "roc_auc = roc_auc_score(y_test, probabilities)\n",
    "f1 = f1_score(y_test, predictions)\n",
    "\n",
    "print(\"Accuracy:\", accuracy)\n",
    "print(\"ROC-AUC Score:\", roc_auc)\n",
    "print(\"F1 Score:\", f1)"
   ],
   "metadata": {
    "collapsed": false,
    "ExecuteTime": {
     "start_time": "2023-12-14T01:37:52.082993300Z"
    }
   },
   "id": "c8abc7e2e5cd9567"
  },
  {
   "cell_type": "markdown",
   "source": [
    "### XGBoost"
   ],
   "metadata": {
    "collapsed": false
   },
   "id": "7f153b44bd2474ec"
  },
  {
   "cell_type": "code",
   "execution_count": 24,
   "outputs": [
    {
     "name": "stdout",
     "output_type": "stream",
     "text": [
      "Accuracy: 0.8870614035087719\n",
      "ROC-AUC Score: 0.9188935195158616\n",
      "F1 Score: 0.9310224746189495\n"
     ]
    }
   ],
   "source": [
    "# XGBoost:\n",
    "xgb_classifier = XGBClassifier()\n",
    "\n",
    "param_grid = {\n",
    "    'n_estimators': [50, 100, 200],\n",
    "    'max_depth': [3, 5, 7],\n",
    "    'learning_rate': [0.01, 0.1, 0.2],\n",
    "    'min_child_weight': [1, 3, 5]\n",
    "}\n",
    "\n",
    "grid_search = GridSearchCV(estimator=xgb_classifier, param_grid=param_grid, cv=3, scoring='accuracy', n_jobs=-1)\n",
    "grid_search.fit(X_train, y_train)\n",
    "\n",
    "best_model = grid_search.best_estimator_\n",
    "predictions = best_model.predict(X_test)\n",
    "probabilities = best_model.predict_proba(X_test)[:, 1]  # Probabilities for the positive class\n",
    "\n",
    "accuracy = accuracy_score(y_test, predictions)\n",
    "roc_auc = roc_auc_score(y_test, probabilities)\n",
    "f1 = f1_score(y_test, predictions)\n",
    "\n",
    "print(\"Accuracy:\", accuracy)\n",
    "print(\"ROC-AUC Score:\", roc_auc)\n",
    "print(\"F1 Score:\", f1)"
   ],
   "metadata": {
    "collapsed": false,
    "ExecuteTime": {
     "end_time": "2023-12-13T22:08:53.171772400Z",
     "start_time": "2023-12-13T21:52:39.834530700Z"
    }
   },
   "id": "5d3fdc75966dc79a"
  },
  {
   "cell_type": "code",
   "execution_count": null,
   "outputs": [],
   "source": [],
   "metadata": {
    "collapsed": false
   },
   "id": "19951ca15e5e0db8"
  }
 ],
 "metadata": {
  "kernelspec": {
   "display_name": "Python 3",
   "language": "python",
   "name": "python3"
  },
  "language_info": {
   "codemirror_mode": {
    "name": "ipython",
    "version": 2
   },
   "file_extension": ".py",
   "mimetype": "text/x-python",
   "name": "python",
   "nbconvert_exporter": "python",
   "pygments_lexer": "ipython2",
   "version": "2.7.6"
  }
 },
 "nbformat": 4,
 "nbformat_minor": 5
}
